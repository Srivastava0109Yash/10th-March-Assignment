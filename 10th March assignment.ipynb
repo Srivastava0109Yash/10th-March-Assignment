{
 "cells": [
  {
   "cell_type": "markdown",
   "id": "a57c8bbe",
   "metadata": {},
   "source": [
    "### Q1: What is Estimation Statistics? Explain point estimate and interval estimate."
   ]
  },
  {
   "cell_type": "markdown",
   "id": "701dfb82",
   "metadata": {},
   "source": [
    "Estimation statistics is a branch of statistics that deals with the estimation of population parameters based on sample data.It involves using sample statistics to make inferences about population parameters."
   ]
  },
  {
   "cell_type": "markdown",
   "id": "f81f79e0",
   "metadata": {},
   "source": [
    "__Point Estimate__:\n",
    "\n",
    "A point estimate is a single value that is used to estimate an unknown population parameter. It is based on sample statistics and is used to estimate a population parameter within certain degree of freedom.  "
   ]
  },
  {
   "cell_type": "markdown",
   "id": "816ce6cb",
   "metadata": {},
   "source": [
    "__Interval Estimate__:"
   ]
  },
  {
   "cell_type": "markdown",
   "id": "145c8809",
   "metadata": {},
   "source": [
    "An interval range of values that is used to estimate an unknown population parameters.  It is based on a sample statistic and is used to estimate a population parameter with a certain level of confidence. "
   ]
  },
  {
   "cell_type": "markdown",
   "id": "da1d43df",
   "metadata": {},
   "source": [
    "### Q2. Write a Python function to estimate the population mean using a sample mean and standard deviation."
   ]
  },
  {
   "cell_type": "code",
   "execution_count": 5,
   "id": "de37af48",
   "metadata": {},
   "outputs": [],
   "source": [
    "import math\n",
    "\n",
    "def estimate_pop_mean(sample_mean, sample_std_dev,sample_size):\n",
    "    \n",
    "    std_error=sample_std_dev/math.sqrt(sample_size)\n",
    "    \n",
    "    #calculate the lower and upper bounds of the 95% confidence interval\n",
    "    lower_bound=sample_mean-1.96*std_error\n",
    "    upper_bound=sample_mean+1.96*std_error\n",
    "    \n",
    "    return sample_mean,lower_bound,upper_bound"
   ]
  },
  {
   "cell_type": "code",
   "execution_count": 6,
   "id": "ef737c6e",
   "metadata": {},
   "outputs": [],
   "source": [
    "sample_mean=10\n",
    "sample_std_dev=2\n",
    "sample_size=100"
   ]
  },
  {
   "cell_type": "code",
   "execution_count": 7,
   "id": "7f0347fb",
   "metadata": {},
   "outputs": [],
   "source": [
    "pop_mean,lower,upper=estimate_pop_mean(sample_mean,sample_std_dev,sample_size)"
   ]
  },
  {
   "cell_type": "code",
   "execution_count": 8,
   "id": "41090e60",
   "metadata": {},
   "outputs": [
    {
     "name": "stdout",
     "output_type": "stream",
     "text": [
      "Estimated population mean: 10\n",
      "95% confidence interval: (9.608, 10.392)\n"
     ]
    }
   ],
   "source": [
    "print(\"Estimated population mean:\", pop_mean)\n",
    "print(\"95% confidence interval:\", (lower, upper))"
   ]
  },
  {
   "cell_type": "markdown",
   "id": "c7092855",
   "metadata": {},
   "source": [
    "### Q3: What is Hypothesis testing? Why is it used? State the importance of Hypothesis testing."
   ]
  },
  {
   "cell_type": "markdown",
   "id": "92bb1cd9",
   "metadata": {},
   "source": [
    "Hypothesis testing is a statistical method used to determine whether a hypothesis about a population parameter is likely to be true or not based on a sample of data. It involves setting up two competing hypotheses, a null hypothesis and an alternative hypothesis, and then using statistical methods to test which one is more supported by the data"
   ]
  },
  {
   "cell_type": "markdown",
   "id": "5bc1ff25",
   "metadata": {},
   "source": [
    "The null hypothesis (H0) is a statement that assumes there is no significant difference between a sample statistic and the population parameter. The alternative hypothesis (Ha) is a statement that assumes there is a significant difference between the sample statistic and the population parameter.\n",
    "\n",
    "__Use__  \n",
    "- Hypothesis testing is used to determine whether an observed effect is statistically significant or whether it could have occurred by chance. It is used in scientific research to determine whether a theory or hypothesis about a population is supported by the data, or whether the results are simply due to random variation or chance."
   ]
  },
  {
   "cell_type": "markdown",
   "id": "8e764d6c",
   "metadata": {},
   "source": [
    "__Importance__\n",
    "  - The importance of hypothesis testing lies in its ability to help researchers make decisions based on data. By using statistical methods to test hypotheses, researchers can make objective decisions about whether to accept or reject a hypothesis based on the evidence. This can help to reduce bias and ensure that conclusions drawn from data are more reliable and accurate."
   ]
  },
  {
   "cell_type": "markdown",
   "id": "9c7b0600",
   "metadata": {},
   "source": [
    "### Q4. Create a hypothesis that states whether the average weight of male college students is greater than the average weight of female college students."
   ]
  },
  {
   "cell_type": "markdown",
   "id": "71e2813d",
   "metadata": {},
   "source": [
    "Hypothesis: The average weight of male college students is greater than the average weight of female college students.\n",
    "\n",
    "This hypothesis assumes that there is a difference in the average weight of male and female college students. To test this hypothesis, we would need to collect weight data from a sample of male and female college students and compare their averages using appropriate statistical analysis."
   ]
  },
  {
   "cell_type": "markdown",
   "id": "618f509c",
   "metadata": {},
   "source": [
    "### Q5. Write a Python script to conduct a hypothesis test on the difference between two population means, given a sample from each population."
   ]
  },
  {
   "cell_type": "code",
   "execution_count": 9,
   "id": "62ca8cdf",
   "metadata": {},
   "outputs": [
    {
     "name": "stdout",
     "output_type": "stream",
     "text": [
      "t-statistic:  -7.918174694325969\n",
      "p-value:  1.6912180237430592e-13\n"
     ]
    }
   ],
   "source": [
    "import numpy as np\n",
    "from scipy.stats import ttest_ind\n",
    "\n",
    "# generate two random samples from two populations\n",
    "population1=np.random.normal(loc=10,scale=2,size=100)\n",
    "population2=np.random.normal(loc=12,scale=2,size=100)\n",
    "\n",
    "# conduct a two-sample t-test assuming equal variances\n",
    "t_statistic, p_value =ttest_ind(population1, population2, equal_var=True)\n",
    "\n",
    "# print the t-statistic and p-value\n",
    "print(\"t-statistic:\", t_statistic)\n",
    "print(\"p-value:\", p_value)"
   ]
  },
  {
   "cell_type": "markdown",
   "id": "83f3e483",
   "metadata": {},
   "source": [
    "- mean1=10 and mean2=12\n",
    "- population size=100 for both"
   ]
  },
  {
   "cell_type": "markdown",
   "id": "ab9f04d0",
   "metadata": {},
   "source": [
    "### Q6: What is a null and alternative hypothesis? Give some examples."
   ]
  },
  {
   "cell_type": "markdown",
   "id": "7914a3ca",
   "metadata": {},
   "source": [
    "In statistical hypothesis testing, the null hypothesis and alternative hypothesis are two competing hypotheses about the population parameters. The null hypothesis states that there is no significant difference between two populations, while the alternative hypothesis suggests that there is a significant difference between them.\n",
    "\n",
    "Examples: \n",
    "- suppose you want to test whether a new medication is effective in reducing blood pressure. The null hypothesis would be that the medication has no effect on blood pressure, while the alternative hypothesis would be that the medication does have an effect on blood pressure.\n",
    "- average height of population is 168cm is Null hypothesis then average height of student is greater than 168 cm is alternative hypothesis"
   ]
  },
  {
   "cell_type": "markdown",
   "id": "0efc140c",
   "metadata": {},
   "source": [
    "### Q7: Write down the steps involved in hypothesis testing."
   ]
  },
  {
   "cell_type": "markdown",
   "id": "c36690bb",
   "metadata": {},
   "source": [
    "- __State the hypothesis__:\n",
    "Start by stating the null hypothesis and alternative hypothesis. The null hypothesis is the default assumption, and the alternative hypothesis is what you are trying to prove or disprove.\n",
    "\n",
    "- __Set the significance level__:\n",
    "The significance level is the probability of rejecting the null hypothesis when it is actually true. Common significance levels are 0.05 or 0.01.\n",
    "\n",
    "- __Choose the test statistic__:\n",
    "Choose an appropriate test statistic based on the type of data and hypothesis being tested.\n",
    "\n",
    "- __Collect the data__:\n",
    "Collect a sample of data from the population of interest.\n",
    "\n",
    "- __Calculate the p-value__:\n",
    "Calculate the probability of observing a test statistic as extreme or more extreme than the one observed if the null hypothesis were true.\n",
    "\n",
    "- __Make a decision__:\n",
    "If the p-value is less than the significance level, reject the null hypothesis in favor of the alternative hypothesis. Otherwise, fail to reject the null hypothesis.\n",
    "\n",
    "- __Draw a conclusion__:\n",
    "Based on the decision, draw a conclusion about the population."
   ]
  },
  {
   "cell_type": "markdown",
   "id": "4bfaf6e6",
   "metadata": {},
   "source": [
    "### Q8. Define p-value and explain its significance in hypothesis testing."
   ]
  },
  {
   "cell_type": "markdown",
   "id": "7d276419",
   "metadata": {},
   "source": [
    "In hypothesis testing, the p-value is a measure of the strength of evidence against the null hypothesis. It is the probability of observing a test statistic as extreme or more extreme than the one observed if the null hypothesis were true.\n",
    "\n",
    "If the p-value is small (less than the significance level), it suggests that the observed data are unlikely to have occurred by chance alone and that the null hypothesis should be rejected in favor of the alternative hypothesis. Conversely, if the p-value is large, it suggests that the observed data are consistent with the null hypothesis, and there is not enough evidence to reject it."
   ]
  },
  {
   "cell_type": "markdown",
   "id": "eec6b1f4",
   "metadata": {},
   "source": [
    "__significance__: The significance level is a threshold value that is set before conducting the hypothesis test, usually at 0.05 or 0.01. If the p-value is less than the significance level, the result is considered statistically significant, and the null hypothesis is rejected. If the p-value is greater than or equal to the significance level, the result is not statistically significant, and the null hypothesis is not rejected"
   ]
  },
  {
   "cell_type": "markdown",
   "id": "6504ff05",
   "metadata": {},
   "source": [
    "### Q9. Generate a Student's t-distribution plot using Python's matplotlib library, with the degrees of freedom parameter set to 10."
   ]
  },
  {
   "cell_type": "code",
   "execution_count": 14,
   "id": "6f6497bd",
   "metadata": {},
   "outputs": [
    {
     "data": {
      "image/png": "[encoded data removed]",
      "text/plain": [
       "<Figure size 432x288 with 1 Axes>"
      ]
     },
     "metadata": {
      "needs_background": "light"
     },
     "output_type": "display_data"
    }
   ],
   "source": [
    "import numpy as np\n",
    "import matplotlib.pyplot as plt\n",
    "import scipy\n",
    "\n",
    "# Generate data for the x-axis\n",
    "x=np.linspace(-4, 4, 500)\n",
    "\n",
    "# Calculate the t-distribution values for the y-axis\n",
    "y=scipy.stats.t.pdf(x,df=10)\n",
    "\n",
    "# Create a plot with labeled axes and title\n",
    "plt.plot(x, y, label='t-distribution')\n",
    "plt.xlabel('x')\n",
    "plt.ylabel('Probability density')\n",
    "plt.title(\"Student's t-distribution with df=10\")\n",
    "\n",
    "# Display the plot\n",
    "plt.show()\n"
   ]
  },
  {
   "cell_type": "markdown",
   "id": "70b000bc",
   "metadata": {},
   "source": [
    "### Q10. Write a Python program to calculate the two-sample t-test for independent samples, given two random samples of equal size and a null hypothesis that the population means are equal."
   ]
  },
  {
   "cell_type": "code",
   "execution_count": 16,
   "id": "ce10cdc0",
   "metadata": {},
   "outputs": [],
   "source": [
    "import numpy as np\n",
    "from scipy.stats import ttest_ind\n",
    "\n",
    "# generate two random samples of eqaul sizes:\n",
    "sample1=np.random.normal(loc=10,scale=2,size=100)\n",
    "sample2=np.random.normal(loc=12,scale=2,size=100)\n",
    "\n",
    "t_statistic, p_value=ttest_ind(sample1, sample2)"
   ]
  },
  {
   "cell_type": "code",
   "execution_count": 17,
   "id": "bb977cdd",
   "metadata": {},
   "outputs": [
    {
     "name": "stdout",
     "output_type": "stream",
     "text": [
      "Reject null hypothesis. Population means are not equal.\n"
     ]
    }
   ],
   "source": [
    "significance_level = 0.05\n",
    "if p_value < significance_level:\n",
    "    print(\"Reject null hypothesis. Population means are not equal.\")\n",
    "else:\n",
    "    print(\"Fail to reject null hypothesis. Population means are equal.\")"
   ]
  },
  {
   "cell_type": "markdown",
   "id": "e9db8b1a",
   "metadata": {},
   "source": [
    "### Q11: What is Student’s t distribution? When to use the t-Distribution."
   ]
  },
  {
   "cell_type": "markdown",
   "id": "e141ea79",
   "metadata": {},
   "source": [
    "Student's t-distribution is a probability distribution that arises when estimating the mean of a normally distributed population in situations where the sample size is small or the population standard deviation is unknown."
   ]
  },
  {
   "cell_type": "markdown",
   "id": "8db7a07d",
   "metadata": {},
   "source": [
    "The t-distribution is commonly used in statistical hypothesis testing to determine if a sample mean is significantly different from a population mean. It is also used in confidence interval estimation for the population mean when the sample size is small or the population standard deviation is unknown.\n",
    "\n",
    "In general, the t-distribution should be used when the following conditions are met:\n",
    "\n",
    "- The sample size is small (n < 30).\n",
    "- The population standard deviation is unknown.\n",
    "- The sample is drawn from a normally distributed population, or the sample size is large enough to apply the Central Limit Theorem."
   ]
  },
  {
   "cell_type": "markdown",
   "id": "4cde27f6",
   "metadata": {},
   "source": [
    "### Q12: What is t-statistic? State the formula for t-statistic."
   ]
  },
  {
   "cell_type": "markdown",
   "id": "2205f3d1",
   "metadata": {},
   "source": [
    "The t-statistic is a statistical measure used to test the hypothesis that the mean of a sample is significantly different from the mean of a population. It is calculated by dividing the difference between the sample mean and the population mean by the standard error of the sample mean.\n",
    "\n",
    "The formula for the t-statistic is:\n",
    "\n",
    "t = (x̄ - μ) / (s / √n)\n",
    "\n",
    "where:\n",
    "\n",
    "- x̄ is the sample mean\n",
    "- μ is the population mean\n",
    "- s is the sample standard deviation\n",
    "- n is the sample size"
   ]
  },
  {
   "cell_type": "markdown",
   "id": "6cde6056",
   "metadata": {},
   "source": [
    "The t-statistic measures how many standard errors the sample mean is away from the population mean. A large t-value indicates that the difference between the sample mean and the population mean is large relative to the standard error of the sample mean, and thus, the sample mean is less likely to have occurred by chance."
   ]
  },
  {
   "cell_type": "markdown",
   "id": "48e166a4",
   "metadata": {},
   "source": [
    "### Q13. A coffee shop owner wants to estimate the average daily revenue for their shop. They take a randomsample of 50 days and find the sample mean revenue to be 500 usd with a standard deviation of 50usd. Estimate the population mean revenue with a 95% confidence interval."
   ]
  },
  {
   "cell_type": "markdown",
   "id": "e91c39be",
   "metadata": {},
   "source": [
    "s=50 usd , n=50 days\n",
    "\n",
    "standard error= s/√n = 7.07\n",
    "\n",
    "dof= n-1 = 49\n",
    "\n",
    "In this case, the sample mean is 500 usd , the standard deviation is 50 usd, and the sample size is 50. We need to find the appropriate t-value for a 95% confidence level with 49 degrees of freedom (df = n - 1). Using a t-distribution table or calculator, we find the t-value to be approximately 2.009.\n",
    "\n",
    "Substituting these values into the formula, we get:\n",
    "\n",
    "Confidence interval = 500 ± (2.009 x (50 / √50))\n",
    "\n",
    "Confidence interval = 500 ± 14.14\n",
    "\n",
    "Therefore, the 95% confidence interval for the population mean revenue is 485.86 usd to 514.14 usd. This means that we are 95% confident that the true population mean revenue falls between these two values."
   ]
  },
  {
   "cell_type": "markdown",
   "id": "01187312",
   "metadata": {},
   "source": [
    "### Q14. A researcher hypothesizes that a new drug will decrease blood pressure by 10 mmHg. They conduct a clinical trial with 100 patients and find that the sample mean decrease in blood pressure is 8 mmHg with a standard deviation of 3 mmHg. Test the hypothesis with a significance level of 0.05."
   ]
  },
  {
   "cell_type": "markdown",
   "id": "9c9d3f09",
   "metadata": {},
   "source": [
    "standard error = sample standard deviation / √sample size\n",
    "\n",
    "standard error=3/√100=0.3\n",
    "\n",
    "The test statistic for the one-sample t-test is:\n",
    "\n",
    "t = (sample mean - hypothesized mean) / (standard error)\n",
    "\n",
    "sample mean=8 , hypothesized mean=10\n",
    "\n",
    "t=(8-10)/0.3\n",
    "\n",
    "t=  -6.67"
   ]
  },
  {
   "cell_type": "markdown",
   "id": "5bd35b3f",
   "metadata": {},
   "source": [
    "The calculated t-value is -6.67. Since we are testing a one-tailed hypothesis with a significance level of 0.05, we need to find the critical t-value for 99 degrees of freedom (df = n - 1) and a one-tailed test. Using a t-distribution table or calculator, we find the critical t-value to be approximately -1.66.\n",
    "\n",
    "Since the calculated t-value is less than the critical t-value, we reject the null hypothesis and conclude that the new drug decreases blood pressure by less than 10 mmHg. Therefore, we can say that the new drug is not effective in reducing blood pressure by 10 mmHg at a significance level of 0.05."
   ]
  },
  {
   "cell_type": "markdown",
   "id": "44b160ea",
   "metadata": {},
   "source": [
    "### Q15. An electronics company produces a certain type of product with a mean weight of 5 pounds and a standard deviation of 0.5 pounds. A random sample of 25 products is taken, and the sample mean weight is found to be 4.8 pounds. Test the hypothesis that the true mean weight of the products is less than 5 pounds with a significance level of 0.01."
   ]
  },
  {
   "cell_type": "markdown",
   "id": "49f8bc83",
   "metadata": {},
   "source": [
    "We can calculate the t-statistic using the formula:\n",
    "\n",
    "t = (x̄ - μ) / (s / √n)\n",
    "\n",
    "where x̄ is the sample mean weight, μ is the hypothesized mean weight (which is 5 pounds), s is the sample standard deviation, and n is the sample size.\n",
    "\n",
    "Substituting the given values, we get:\n",
    "\n",
    "t = (4.8 - 5) / (0.5 / √25)\n",
    "t = -0.2 / 0.1\n",
    "t = -2\n",
    "\n",
    "The calculated t-value is -2. Since we are testing a one-tailed hypothesis with a significance level of 0.01, we need to find the critical t-value for 24 degrees of freedom (df = n - 1) and a one-tailed test. Using a t-distribution table or calculator, we find the critical t-value to be approximately -2.492.\n",
    "\n",
    "Since the calculated t-value (-2) is greater than the critical t-value (-2.492), we fail to reject the null hypothesis and conclude that there is not enough evidence to support the claim that the true mean weight of the products is less than 5 pounds at a significance level of 0.01. Therefore, we can say that there is insufficient evidence to suggest that the mean weight of the products has decreased."
   ]
  },
  {
   "cell_type": "markdown",
   "id": "628aee97",
   "metadata": {},
   "source": [
    "### Q16. Two groups of students are given different study materials to prepare for a test. The first group (n1 = 30) has a mean score of 80 with a standard deviation of 10, and the second group (n2 = 40) has a mean score of 75 with a standard deviation of 8. Test the hypothesis that the population means for the two groups are equal with a significance level of 0.01."
   ]
  },
  {
   "cell_type": "markdown",
   "id": "64caa800",
   "metadata": {},
   "source": [
    "To test the hypothesis that the population means for the two groups are equal, we need to perform a two-sample t-test. The null hypothesis is that the population means are equal, and the alternative hypothesis is that the population means are not equal.\n",
    "\n",
    "We can calculate the pooled standard deviation, sp, using the formula:\n",
    "\n",
    "sp = sqrt(((n1-1)*s1^2 + (n2-1)*s2^2) / (n1 + n2 - 2))\n",
    "\n",
    "where s1 and s2 are the sample standard deviations for the first and second groups, respectively.\n",
    "\n",
    "Substituting the given values, we get:\n",
    "\n",
    "sp = sqrt(((30-1)*10^2 + (40-1)*8^2) / (30 + 40 - 2))\n",
    "sp = 9.04\n",
    "\n",
    "We can then calculate the t-statistic using the formula:\n",
    "\n",
    "t = (x̄1 - x̄2) / (sp * sqrt(1/n1 + 1/n2))\n",
    "\n",
    "where x̄1 and x̄2 are the sample means for the first and second groups, respectively.\n",
    "\n",
    "Substituting the given values, we get:\n",
    "\n",
    "t = (80 - 75) / (9.04 * sqrt(1/30 + 1/40))\n",
    "t = 2.51\n",
    "\n",
    "The calculated t-value is 2.51. Since we are testing a two-tailed hypothesis with a significance level of 0.01, we need to find the critical t-value for 68 degrees of freedom (df = n1 + n2 - 2) and a two-tailed test. Using a t-distribution table or calculator, we find the critical t-value to be approximately ±2.646.\n",
    "\n",
    "Since the calculated t-value (2.51) is less than the critical t-value (±2.646), we fail to reject the null hypothesis and conclude that there is not enough evidence to support the claim that the population means for the two groups are not equal at a significance level of 0.01. Therefore, we can say that there is insufficient evidence to suggest that the study materials provided to the two groups had a different effect on their test scores.\n",
    "\n",
    "\n",
    "\n"
   ]
  },
  {
   "cell_type": "markdown",
   "id": "c086567a",
   "metadata": {},
   "source": [
    "### Q17. A marketing company wants to estimate the average number of ads watched by viewers during a TV program. They take a random sample of 50 viewers and find that the sample mean is 4 with a standard deviation of 1.5. Estimate the population mean with a 99% confidence interval."
   ]
  },
  {
   "cell_type": "markdown",
   "id": "644e13d1",
   "metadata": {},
   "source": [
    "To estimate the population mean number of ads watched by viewers during a TV program with a 99% confidence interval, we can use the following formula:\n",
    "\n",
    "CI = x̄ ± t*(s/√n)\n",
    "\n",
    "where CI is the confidence interval, x̄ is the sample mean number of ads watched, s is the sample standard deviation, n is the sample size, and t is the critical t-value for the desired level of confidence and degrees of freedom (df = n-1).\n",
    "\n",
    "Since we want a 99% confidence interval, the level of significance (α) is 0.01, and the degrees of freedom are 49 (50-1). Using a t-distribution table or calculator, the critical t-value is approximately 2.680.\n",
    "\n",
    "Substituting the given values, we get:\n",
    "\n",
    "CI = 4 ± 2.680*(1.5/√50)\n",
    "\n",
    "Simplifying this expression, we get:\n",
    "\n",
    "CI = 4 ± 0.648\n",
    "\n",
    "Therefore, the 99% confidence interval for the true mean number of ads watched by viewers during a TV program is (3.352, 4.648). We can say with 99% confidence that the true mean number of ads watched falls within this interval."
   ]
  },
  {
   "cell_type": "code",
   "execution_count": null,
   "id": "5f1b9a6b",
   "metadata": {},
   "outputs": [],
   "source": []
  }
 ],
 "metadata": {
  "kernelspec": {
   "display_name": "Python 3 (ipykernel)",
   "language": "python",
   "name": "python3"
  },
  "language_info": {
   "codemirror_mode": {
    "name": "ipython",
    "version": 3
   },
   "file_extension": ".py",
   "mimetype": "text/x-python",
   "name": "python",
   "nbconvert_exporter": "python",
   "pygments_lexer": "ipython3",
   "version": "3.9.7"
  }
 },
 "nbformat": 4,
 "nbformat_minor": 5
}
